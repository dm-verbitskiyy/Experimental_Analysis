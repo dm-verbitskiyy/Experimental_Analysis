{
 "cells": [
  {
   "cell_type": "markdown",
   "metadata": {},
   "source": [
    "# Задача для Анализа:\n",
    "В ходе эксперимента целевой группе предложена новая механика оплаты услуг на сайте, в то время как у контрольной группы осталась базовая механика. Задачей является анализ результатов эксперимента и формулирование выводов относительно целесообразности внедрения новой механики оплаты для всех пользователей.\n",
    "\n",
    "Также создайте функцию, которая автоматически загружает информацию из дополнительного файла groups_add.csv и пересчитывает метрики на основе дополнительных параметров.\n",
    "\n",
    "И функцию для построения графиков на основе полученных метрик. \n",
    "\n",
    "Описание Данных:\n",
    "\n",
    "- groups.csv - файл с информацией о принадлежности пользователя к контрольной или экспериментальной группе (А – контроль, B – целевая группа) \n",
    "\n",
    "- groups_add.csv - дополнительный файл с пользователями, который вам прислали спустя 2 дня после передачи данных\n",
    "\n",
    "- active_studs.csv - файл с информацией о пользователях, которые зашли на платформу в дни проведения эксперимента. \n",
    "\n",
    "- checks.csv - файл с информацией об оплатах пользователей в дни проведения эксперимента. "
   ]
  },
  {
   "cell_type": "markdown",
   "metadata": {},
   "source": [
    "-------------------------------------------------------------------------------------------------------------------------------\n",
    "### Работа с данными:"
   ]
  },
  {
   "cell_type": "markdown",
   "metadata": {},
   "source": [
    "Импорт библиотек, необходимых для дальнейшей работы:"
   ]
  },
  {
   "cell_type": "code",
   "execution_count": 1,
   "metadata": {},
   "outputs": [],
   "source": [
    "import pandas as pd\n",
    "import requests\n",
    "from urllib.parse import urlencode\n",
    "import numpy as np\n",
    "import scipy\n",
    "from scipy import stats\n",
    "from scipy.stats import ttest_ind\n",
    "from scipy.stats import chi2_contingency\n",
    "import seaborn as sns\n",
    "import pandahouse as ph\n",
    "import matplotlib.pyplot as plt"
   ]
  },
  {
   "cell_type": "markdown",
   "metadata": {},
   "source": [
    "Загрузка датасетов при помощи API с использованием функции:"
   ]
  },
  {
   "cell_type": "code",
   "execution_count": 2,
   "metadata": {},
   "outputs": [],
   "source": [
    "url = 'https://cloud-api.yandex.net/v1/disk/public/resources/download?'\n",
    "url_groups = 'https://disk.yandex.ru/d/UhyYx41rTt3clQ'\n",
    "url_groups_add = 'https://disk.yandex.ru/d/5Kxrz02m3IBUwQ'\n",
    "url_active_studs = 'https://disk.yandex.ru/d/Tbs44Bm6H_FwFQ'\n",
    "url_checks = 'https://disk.yandex.ru/d/pH1q-VqcxXjsVA'\n",
    "\n",
    "def load_dataframes(url, public_key, sep=';'):\n",
    "    # Формирую главный url для загрузки данных, добавляя к исходному url параметр public_key\n",
    "    main = url + urlencode({'public_key': public_key})\n",
    "    # Отправляю запрос по полученному main через get\n",
    "    get_url = requests.get(main).json()['href']\n",
    "    # Из ответа получается url для скачивания данных\n",
    "    loading_everything = requests.get(get_url)\n",
    "    # Для считывания использую read_csv\n",
    "    return pd.read_csv(loading_everything.url, sep=sep)\n",
    "\n",
    "groups = load_dataframes(url, url_groups)\n",
    "groups_add = load_dataframes(url, url_groups_add, sep=',')\n",
    "active_studs = load_dataframes(url, url_active_studs)\n",
    "checks = load_dataframes(url, url_checks)"
   ]
  },
  {
   "cell_type": "markdown",
   "metadata": {},
   "source": [
    "Загрузка датафреймов для проверки корректности отображения данных:"
   ]
  },
  {
   "cell_type": "code",
   "execution_count": 3,
   "metadata": {},
   "outputs": [
    {
     "data": {
      "text/html": [
       "<div>\n",
       "<style scoped>\n",
       "    .dataframe tbody tr th:only-of-type {\n",
       "        vertical-align: middle;\n",
       "    }\n",
       "\n",
       "    .dataframe tbody tr th {\n",
       "        vertical-align: top;\n",
       "    }\n",
       "\n",
       "    .dataframe thead th {\n",
       "        text-align: right;\n",
       "    }\n",
       "</style>\n",
       "<table border=\"1\" class=\"dataframe\">\n",
       "  <thead>\n",
       "    <tr style=\"text-align: right;\">\n",
       "      <th></th>\n",
       "      <th>id</th>\n",
       "      <th>grp</th>\n",
       "    </tr>\n",
       "  </thead>\n",
       "  <tbody>\n",
       "    <tr>\n",
       "      <th>0</th>\n",
       "      <td>1489</td>\n",
       "      <td>B</td>\n",
       "    </tr>\n",
       "    <tr>\n",
       "      <th>1</th>\n",
       "      <td>1627</td>\n",
       "      <td>A</td>\n",
       "    </tr>\n",
       "    <tr>\n",
       "      <th>2</th>\n",
       "      <td>1768</td>\n",
       "      <td>B</td>\n",
       "    </tr>\n",
       "    <tr>\n",
       "      <th>3</th>\n",
       "      <td>1783</td>\n",
       "      <td>B</td>\n",
       "    </tr>\n",
       "    <tr>\n",
       "      <th>4</th>\n",
       "      <td>1794</td>\n",
       "      <td>A</td>\n",
       "    </tr>\n",
       "    <tr>\n",
       "      <th>...</th>\n",
       "      <td>...</td>\n",
       "      <td>...</td>\n",
       "    </tr>\n",
       "    <tr>\n",
       "      <th>74479</th>\n",
       "      <td>5692459</td>\n",
       "      <td>B</td>\n",
       "    </tr>\n",
       "    <tr>\n",
       "      <th>74480</th>\n",
       "      <td>5692572</td>\n",
       "      <td>B</td>\n",
       "    </tr>\n",
       "    <tr>\n",
       "      <th>74481</th>\n",
       "      <td>5692865</td>\n",
       "      <td>B</td>\n",
       "    </tr>\n",
       "    <tr>\n",
       "      <th>74482</th>\n",
       "      <td>5693667</td>\n",
       "      <td>B</td>\n",
       "    </tr>\n",
       "    <tr>\n",
       "      <th>74483</th>\n",
       "      <td>5694419</td>\n",
       "      <td>B</td>\n",
       "    </tr>\n",
       "  </tbody>\n",
       "</table>\n",
       "<p>74484 rows × 2 columns</p>\n",
       "</div>"
      ],
      "text/plain": [
       "            id grp\n",
       "0         1489   B\n",
       "1         1627   A\n",
       "2         1768   B\n",
       "3         1783   B\n",
       "4         1794   A\n",
       "...        ...  ..\n",
       "74479  5692459   B\n",
       "74480  5692572   B\n",
       "74481  5692865   B\n",
       "74482  5693667   B\n",
       "74483  5694419   B\n",
       "\n",
       "[74484 rows x 2 columns]"
      ]
     },
     "execution_count": 3,
     "metadata": {},
     "output_type": "execute_result"
    }
   ],
   "source": [
    "groups"
   ]
  },
  {
   "cell_type": "code",
   "execution_count": 4,
   "metadata": {},
   "outputs": [
    {
     "data": {
      "text/html": [
       "<div>\n",
       "<style scoped>\n",
       "    .dataframe tbody tr th:only-of-type {\n",
       "        vertical-align: middle;\n",
       "    }\n",
       "\n",
       "    .dataframe tbody tr th {\n",
       "        vertical-align: top;\n",
       "    }\n",
       "\n",
       "    .dataframe thead th {\n",
       "        text-align: right;\n",
       "    }\n",
       "</style>\n",
       "<table border=\"1\" class=\"dataframe\">\n",
       "  <thead>\n",
       "    <tr style=\"text-align: right;\">\n",
       "      <th></th>\n",
       "      <th>id</th>\n",
       "      <th>grp</th>\n",
       "    </tr>\n",
       "  </thead>\n",
       "  <tbody>\n",
       "    <tr>\n",
       "      <th>0</th>\n",
       "      <td>5694584</td>\n",
       "      <td>B</td>\n",
       "    </tr>\n",
       "    <tr>\n",
       "      <th>1</th>\n",
       "      <td>5694830</td>\n",
       "      <td>B</td>\n",
       "    </tr>\n",
       "    <tr>\n",
       "      <th>2</th>\n",
       "      <td>5695057</td>\n",
       "      <td>B</td>\n",
       "    </tr>\n",
       "    <tr>\n",
       "      <th>3</th>\n",
       "      <td>5698872</td>\n",
       "      <td>B</td>\n",
       "    </tr>\n",
       "    <tr>\n",
       "      <th>4</th>\n",
       "      <td>5699067</td>\n",
       "      <td>B</td>\n",
       "    </tr>\n",
       "    <tr>\n",
       "      <th>...</th>\n",
       "      <td>...</td>\n",
       "      <td>...</td>\n",
       "    </tr>\n",
       "    <tr>\n",
       "      <th>87</th>\n",
       "      <td>200247820</td>\n",
       "      <td>B</td>\n",
       "    </tr>\n",
       "    <tr>\n",
       "      <th>88</th>\n",
       "      <td>201032527</td>\n",
       "      <td>B</td>\n",
       "    </tr>\n",
       "    <tr>\n",
       "      <th>89</th>\n",
       "      <td>201067612</td>\n",
       "      <td>B</td>\n",
       "    </tr>\n",
       "    <tr>\n",
       "      <th>90</th>\n",
       "      <td>201067653</td>\n",
       "      <td>B</td>\n",
       "    </tr>\n",
       "    <tr>\n",
       "      <th>91</th>\n",
       "      <td>201067659</td>\n",
       "      <td>B</td>\n",
       "    </tr>\n",
       "  </tbody>\n",
       "</table>\n",
       "<p>92 rows × 2 columns</p>\n",
       "</div>"
      ],
      "text/plain": [
       "           id grp\n",
       "0     5694584   B\n",
       "1     5694830   B\n",
       "2     5695057   B\n",
       "3     5698872   B\n",
       "4     5699067   B\n",
       "..        ...  ..\n",
       "87  200247820   B\n",
       "88  201032527   B\n",
       "89  201067612   B\n",
       "90  201067653   B\n",
       "91  201067659   B\n",
       "\n",
       "[92 rows x 2 columns]"
      ]
     },
     "execution_count": 4,
     "metadata": {},
     "output_type": "execute_result"
    }
   ],
   "source": [
    "groups_add"
   ]
  },
  {
   "cell_type": "code",
   "execution_count": 5,
   "metadata": {},
   "outputs": [
    {
     "data": {
      "text/html": [
       "<div>\n",
       "<style scoped>\n",
       "    .dataframe tbody tr th:only-of-type {\n",
       "        vertical-align: middle;\n",
       "    }\n",
       "\n",
       "    .dataframe tbody tr th {\n",
       "        vertical-align: top;\n",
       "    }\n",
       "\n",
       "    .dataframe thead th {\n",
       "        text-align: right;\n",
       "    }\n",
       "</style>\n",
       "<table border=\"1\" class=\"dataframe\">\n",
       "  <thead>\n",
       "    <tr style=\"text-align: right;\">\n",
       "      <th></th>\n",
       "      <th>student_id</th>\n",
       "    </tr>\n",
       "  </thead>\n",
       "  <tbody>\n",
       "    <tr>\n",
       "      <th>0</th>\n",
       "      <td>581585</td>\n",
       "    </tr>\n",
       "    <tr>\n",
       "      <th>1</th>\n",
       "      <td>5723133</td>\n",
       "    </tr>\n",
       "    <tr>\n",
       "      <th>2</th>\n",
       "      <td>3276743</td>\n",
       "    </tr>\n",
       "    <tr>\n",
       "      <th>3</th>\n",
       "      <td>4238589</td>\n",
       "    </tr>\n",
       "    <tr>\n",
       "      <th>4</th>\n",
       "      <td>4475369</td>\n",
       "    </tr>\n",
       "    <tr>\n",
       "      <th>...</th>\n",
       "      <td>...</td>\n",
       "    </tr>\n",
       "    <tr>\n",
       "      <th>8336</th>\n",
       "      <td>1794344</td>\n",
       "    </tr>\n",
       "    <tr>\n",
       "      <th>8337</th>\n",
       "      <td>296883</td>\n",
       "    </tr>\n",
       "    <tr>\n",
       "      <th>8338</th>\n",
       "      <td>3598448</td>\n",
       "    </tr>\n",
       "    <tr>\n",
       "      <th>8339</th>\n",
       "      <td>3610547</td>\n",
       "    </tr>\n",
       "    <tr>\n",
       "      <th>8340</th>\n",
       "      <td>205705</td>\n",
       "    </tr>\n",
       "  </tbody>\n",
       "</table>\n",
       "<p>8341 rows × 1 columns</p>\n",
       "</div>"
      ],
      "text/plain": [
       "      student_id\n",
       "0         581585\n",
       "1        5723133\n",
       "2        3276743\n",
       "3        4238589\n",
       "4        4475369\n",
       "...          ...\n",
       "8336     1794344\n",
       "8337      296883\n",
       "8338     3598448\n",
       "8339     3610547\n",
       "8340      205705\n",
       "\n",
       "[8341 rows x 1 columns]"
      ]
     },
     "execution_count": 5,
     "metadata": {},
     "output_type": "execute_result"
    }
   ],
   "source": [
    "active_studs"
   ]
  },
  {
   "cell_type": "code",
   "execution_count": 6,
   "metadata": {},
   "outputs": [
    {
     "data": {
      "text/html": [
       "<div>\n",
       "<style scoped>\n",
       "    .dataframe tbody tr th:only-of-type {\n",
       "        vertical-align: middle;\n",
       "    }\n",
       "\n",
       "    .dataframe tbody tr th {\n",
       "        vertical-align: top;\n",
       "    }\n",
       "\n",
       "    .dataframe thead th {\n",
       "        text-align: right;\n",
       "    }\n",
       "</style>\n",
       "<table border=\"1\" class=\"dataframe\">\n",
       "  <thead>\n",
       "    <tr style=\"text-align: right;\">\n",
       "      <th></th>\n",
       "      <th>student_id</th>\n",
       "      <th>rev</th>\n",
       "    </tr>\n",
       "  </thead>\n",
       "  <tbody>\n",
       "    <tr>\n",
       "      <th>0</th>\n",
       "      <td>1627</td>\n",
       "      <td>990.0</td>\n",
       "    </tr>\n",
       "    <tr>\n",
       "      <th>1</th>\n",
       "      <td>3185</td>\n",
       "      <td>690.0</td>\n",
       "    </tr>\n",
       "    <tr>\n",
       "      <th>2</th>\n",
       "      <td>25973</td>\n",
       "      <td>690.0</td>\n",
       "    </tr>\n",
       "    <tr>\n",
       "      <th>3</th>\n",
       "      <td>26280</td>\n",
       "      <td>690.0</td>\n",
       "    </tr>\n",
       "    <tr>\n",
       "      <th>4</th>\n",
       "      <td>100300</td>\n",
       "      <td>990.0</td>\n",
       "    </tr>\n",
       "    <tr>\n",
       "      <th>...</th>\n",
       "      <td>...</td>\n",
       "      <td>...</td>\n",
       "    </tr>\n",
       "    <tr>\n",
       "      <th>536</th>\n",
       "      <td>5645737</td>\n",
       "      <td>1900.0</td>\n",
       "    </tr>\n",
       "    <tr>\n",
       "      <th>537</th>\n",
       "      <td>5651566</td>\n",
       "      <td>1900.0</td>\n",
       "    </tr>\n",
       "    <tr>\n",
       "      <th>538</th>\n",
       "      <td>5662322</td>\n",
       "      <td>1900.0</td>\n",
       "    </tr>\n",
       "    <tr>\n",
       "      <th>539</th>\n",
       "      <td>5681918</td>\n",
       "      <td>1900.0</td>\n",
       "    </tr>\n",
       "    <tr>\n",
       "      <th>540</th>\n",
       "      <td>5740903</td>\n",
       "      <td>1900.0</td>\n",
       "    </tr>\n",
       "  </tbody>\n",
       "</table>\n",
       "<p>541 rows × 2 columns</p>\n",
       "</div>"
      ],
      "text/plain": [
       "     student_id     rev\n",
       "0          1627   990.0\n",
       "1          3185   690.0\n",
       "2         25973   690.0\n",
       "3         26280   690.0\n",
       "4        100300   990.0\n",
       "..          ...     ...\n",
       "536     5645737  1900.0\n",
       "537     5651566  1900.0\n",
       "538     5662322  1900.0\n",
       "539     5681918  1900.0\n",
       "540     5740903  1900.0\n",
       "\n",
       "[541 rows x 2 columns]"
      ]
     },
     "execution_count": 6,
     "metadata": {},
     "output_type": "execute_result"
    }
   ],
   "source": [
    "checks"
   ]
  },
  {
   "cell_type": "markdown",
   "metadata": {},
   "source": [
    "Выведение основной информации по датафреймам:"
   ]
  },
  {
   "cell_type": "code",
   "execution_count": 7,
   "metadata": {},
   "outputs": [
    {
     "name": "stdout",
     "output_type": "stream",
     "text": [
      "<class 'pandas.core.frame.DataFrame'>\n",
      "RangeIndex: 74484 entries, 0 to 74483\n",
      "Data columns (total 2 columns):\n",
      " #   Column  Non-Null Count  Dtype \n",
      "---  ------  --------------  ----- \n",
      " 0   id      74484 non-null  int64 \n",
      " 1   grp     74484 non-null  object\n",
      "dtypes: int64(1), object(1)\n",
      "memory usage: 1.1+ MB\n",
      "None\n",
      "<class 'pandas.core.frame.DataFrame'>\n",
      "RangeIndex: 92 entries, 0 to 91\n",
      "Data columns (total 2 columns):\n",
      " #   Column  Non-Null Count  Dtype \n",
      "---  ------  --------------  ----- \n",
      " 0   id      92 non-null     int64 \n",
      " 1   grp     92 non-null     object\n",
      "dtypes: int64(1), object(1)\n",
      "memory usage: 1.6+ KB\n",
      "None\n",
      "<class 'pandas.core.frame.DataFrame'>\n",
      "RangeIndex: 8341 entries, 0 to 8340\n",
      "Data columns (total 1 columns):\n",
      " #   Column      Non-Null Count  Dtype\n",
      "---  ------      --------------  -----\n",
      " 0   student_id  8341 non-null   int64\n",
      "dtypes: int64(1)\n",
      "memory usage: 65.3 KB\n",
      "None\n",
      "<class 'pandas.core.frame.DataFrame'>\n",
      "RangeIndex: 541 entries, 0 to 540\n",
      "Data columns (total 2 columns):\n",
      " #   Column      Non-Null Count  Dtype  \n",
      "---  ------      --------------  -----  \n",
      " 0   student_id  541 non-null    int64  \n",
      " 1   rev         541 non-null    float64\n",
      "dtypes: float64(1), int64(1)\n",
      "memory usage: 8.6 KB\n",
      "None\n"
     ]
    }
   ],
   "source": [
    "print(groups.info())\n",
    "print(groups_add.info())\n",
    "print(active_studs.info())\n",
    "print(checks.info())"
   ]
  },
  {
   "cell_type": "markdown",
   "metadata": {},
   "source": [
    "Проверка на пропущенные значения:"
   ]
  },
  {
   "cell_type": "code",
   "execution_count": 8,
   "metadata": {},
   "outputs": [
    {
     "name": "stdout",
     "output_type": "stream",
     "text": [
      "Пропущенные значения в 'groups':\n",
      " id     0\n",
      "grp    0\n",
      "dtype: int64\n",
      "Пропущенные значения в 'groups_add':\n",
      " id     0\n",
      "grp    0\n",
      "dtype: int64\n",
      "Пропущенные значения в 'active_studs':\n",
      " student_id    0\n",
      "dtype: int64\n",
      "Пропущенные значения в 'checks':\n",
      " student_id    0\n",
      "rev           0\n",
      "dtype: int64\n"
     ]
    }
   ],
   "source": [
    "missing_values_groups = groups.isnull().sum()\n",
    "missing_values_groups_add = groups_add.isnull().sum()\n",
    "missing_values_active_studs = active_studs.isnull().sum()\n",
    "missing_values_checks = checks.isnull().sum()\n",
    "\n",
    "print(\"Пропущенные значения в 'groups':\\n\", missing_values_groups)\n",
    "print(\"Пропущенные значения в 'groups_add':\\n\", missing_values_groups_add)\n",
    "print(\"Пропущенные значения в 'active_studs':\\n\", missing_values_active_studs)\n",
    "print(\"Пропущенные значения в 'checks':\\n\", missing_values_checks)"
   ]
  },
  {
   "cell_type": "markdown",
   "metadata": {},
   "source": [
    "Проверка на дубликаты:"
   ]
  },
  {
   "cell_type": "code",
   "execution_count": 9,
   "metadata": {},
   "outputs": [
    {
     "name": "stdout",
     "output_type": "stream",
     "text": [
      "Дубликатов в 'groups' нет.\n",
      "Дубликатов в 'groups_add' нет.\n",
      "Дубликатов в 'active_studs' нет.\n",
      "Дубликатов в 'checks' нет.\n"
     ]
    }
   ],
   "source": [
    "duplicates_groups = groups.duplicated()\n",
    "duplicates_groups_add = groups_add.duplicated()\n",
    "duplicates_active_studs = active_studs.duplicated()\n",
    "duplicates_checks = checks.duplicated()\n",
    "\n",
    "if duplicates_groups.any():\n",
    "    print(\"Дубликаты в 'groups':\\n\", duplicates_groups)\n",
    "else:\n",
    "    print(\"Дубликатов в 'groups' нет.\")\n",
    "    \n",
    "if duplicates_groups_add.any():\n",
    "    print(\"Дубликаты в 'groups_add':\\n\", duplicates_groups_add)\n",
    "else:\n",
    "    print(\"Дубликатов в 'groups_add' нет.\")\n",
    "    \n",
    "if duplicates_active_studs.any():\n",
    "    print(\"Дубликаты в 'active_studs':\\n\", duplicates_active_studs)\n",
    "else:\n",
    "    print(\"Дубликатов в 'active_studs' нет.\")\n",
    "    \n",
    "if duplicates_checks.any():\n",
    "    print(\"Дубликаты в 'checks':\\n\", duplicates_checks)\n",
    "else:\n",
    "    print(\"Дубликатов в 'checks' нет.\")"
   ]
  },
  {
   "cell_type": "markdown",
   "metadata": {},
   "source": [
    "Подсчёт количества людей в каждой группе датафрейма 'groups':"
   ]
  },
  {
   "cell_type": "code",
   "execution_count": 10,
   "metadata": {},
   "outputs": [
    {
     "name": "stdout",
     "output_type": "stream",
     "text": [
      "Количество людей в каждой группе:\n",
      " grp\n",
      "A    14671\n",
      "B    59813\n",
      "Name: id, dtype: int64\n",
      "Сумма людей в группах сходится с исходным количеством равным 74484\n"
     ]
    }
   ],
   "source": [
    "people_count_in_groups = groups.groupby('grp')['id'].count()\n",
    "\n",
    "print(\"Количество людей в каждой группе:\\n\", people_count_in_groups)\n",
    "\n",
    "total_people_count = people_count_in_groups.sum()\n",
    "original_people_count = len(groups)\n",
    "\n",
    "if total_people_count == original_people_count:\n",
    "    print(\"Сумма людей в группах сходится с исходным количеством равным\", len(groups))\n",
    "else:\n",
    "    print(\"Сумма людей в группах не сходится с исходным количеством равным\", len(groups))"
   ]
  },
  {
   "cell_type": "markdown",
   "metadata": {},
   "source": [
    "Подсчёт количества людей в каждой группе датафрейма 'groups_add':"
   ]
  },
  {
   "cell_type": "code",
   "execution_count": 11,
   "metadata": {},
   "outputs": [
    {
     "name": "stdout",
     "output_type": "stream",
     "text": [
      "Количество людей в каждой группе:\n",
      " grp\n",
      "A    22\n",
      "B    70\n",
      "Name: id, dtype: int64\n",
      "Сумма людей в группах сходится с исходным количеством равным 92\n"
     ]
    }
   ],
   "source": [
    "people_count_in_groups_add = groups_add.groupby('grp')['id'].count()\n",
    "\n",
    "print(\"Количество людей в каждой группе:\\n\", people_count_in_groups_add)\n",
    "\n",
    "total_people_count = people_count_in_groups_add.sum()\n",
    "original_people_count = len(groups_add)\n",
    "\n",
    "if total_people_count == original_people_count:\n",
    "    print(\"Сумма людей в группах сходится с исходным количеством равным\", len(groups_add))\n",
    "else:\n",
    "    print(\"Сумма людей в группах не сходится с исходным количеством равным\", len(groups_add))"
   ]
  },
  {
   "cell_type": "markdown",
   "metadata": {},
   "source": [
    "Проверка совпадений ID в датафреймах 'groups' и 'groups_add':"
   ]
  },
  {
   "cell_type": "code",
   "execution_count": 12,
   "metadata": {},
   "outputs": [
    {
     "name": "stdout",
     "output_type": "stream",
     "text": [
      "Нет схожих людей в датафреймах groups и groups_add.\n"
     ]
    }
   ],
   "source": [
    "common_people = groups['id'].isin(groups_add['id'])\n",
    "\n",
    "if common_people.any():\n",
    "    print(\"Есть схожие люди в столбцах 'id' датафреймов groups и groups_add.\")\n",
    "    common_people_indices = len(groups[common_people].index)\n",
    "    print(\"Число общих людей:\\n\", common_people_indices)\n",
    "else:\n",
    "    print(\"Нет схожих людей в датафреймах groups и groups_add.\")\n"
   ]
  },
  {
   "cell_type": "markdown",
   "metadata": {},
   "source": [
    "Проверка совпадений ID между датафреймами 'groups' + 'groups_add' и 'active_studs':"
   ]
  },
  {
   "cell_type": "code",
   "execution_count": 13,
   "metadata": {},
   "outputs": [
    {
     "name": "stdout",
     "output_type": "stream",
     "text": [
      "Есть схожие люди в столбцах 'id' датафреймов groups_and_groups_add и active_studs.\n",
      "Число общих людей:\n",
      " 8341\n"
     ]
    }
   ],
   "source": [
    "groups_and_groups_add = pd.concat([groups, groups_add])\n",
    "common_people = groups_and_groups_add['id'].isin(active_studs['student_id'])\n",
    "\n",
    "if common_people.any():\n",
    "    print(\"Есть схожие люди в столбцах 'id' датафреймов groups_and_groups_add и active_studs.\")\n",
    "    common_people_indices = len(groups_and_groups_add.loc[common_people].index)\n",
    "    print(\"Число общих людей:\\n\", common_people_indices)\n",
    "else:\n",
    "    print(\"Нет схожих людей в датафреймах groups_and_groups_add и active_studs.\")"
   ]
  },
  {
   "cell_type": "markdown",
   "metadata": {},
   "source": [
    "Поскольку между датафреймами 'groups' + 'groups_add' и 'active_studs' нашлись совпадающие ID, для упрощения дальнейших действий стоит переименовать колонку 'student_id' в 'id':"
   ]
  },
  {
   "cell_type": "code",
   "execution_count": 14,
   "metadata": {},
   "outputs": [],
   "source": [
    "active_studs.rename(columns={'student_id': 'id'}, inplace=True)"
   ]
  },
  {
   "cell_type": "markdown",
   "metadata": {},
   "source": [
    "Проверка совпадений ID между датафреймами 'groups' и 'active_studs' + 'checks':"
   ]
  },
  {
   "cell_type": "code",
   "execution_count": 15,
   "metadata": {},
   "outputs": [
    {
     "name": "stdout",
     "output_type": "stream",
     "text": [
      "Есть схожие люди в столбцах 'id' датафреймов groups_and_groups_add_active_studs и checks.\n",
      "Число общих людей:\n",
      " 391\n"
     ]
    }
   ],
   "source": [
    "groups_and_groups_add_active_studs = pd.merge(groups, active_studs, on='id')\n",
    "common_people = groups_and_groups_add_active_studs['id'].isin(checks['student_id'])\n",
    "\n",
    "if common_people.any():\n",
    "    print(\"Есть схожие люди в столбцах 'id' датафреймов groups_and_groups_add_active_studs и checks.\")\n",
    "    common_people_indices = len(groups_and_groups_add_active_studs.loc[common_people].index)\n",
    "    print(\"Число общих людей:\\n\", common_people_indices)\n",
    "else:\n",
    "    print(\"Нет схожих людей в датафреймах groups_and_groups_add_active_studs и checks.\")"
   ]
  },
  {
   "cell_type": "markdown",
   "metadata": {},
   "source": [
    "Проверка совпадений ID между датафреймами 'groups' + 'groups_add' и 'active_studs' + 'checks':"
   ]
  },
  {
   "cell_type": "code",
   "execution_count": 16,
   "metadata": {},
   "outputs": [
    {
     "name": "stdout",
     "output_type": "stream",
     "text": [
      "Есть схожие люди в столбцах 'id' датафреймов groups_and_groups_add_active_studs и checks.\n",
      "Число общих людей:\n",
      " 392\n"
     ]
    }
   ],
   "source": [
    "groups_and_groups_add = pd.concat([groups, groups_add])\n",
    "groups_and_groups_add_active_studs = pd.merge(groups_and_groups_add, active_studs, on='id')\n",
    "common_people_add = groups_and_groups_add_active_studs['id'].isin(checks['student_id'])\n",
    "\n",
    "if common_people.any():\n",
    "    print(\"Есть схожие люди в столбцах 'id' датафреймов groups_and_groups_add_active_studs и checks.\")\n",
    "    common_people_indices_add = len(groups_and_groups_add_active_studs.loc[common_people_add].index)\n",
    "    print(\"Число общих людей:\\n\", common_people_indices_add)\n",
    "else:\n",
    "    print(\"Нет схожих людей в датафреймах groups_and_groups_add_active_studs и checks.\")"
   ]
  },
  {
   "cell_type": "markdown",
   "metadata": {},
   "source": [
    "Из предыдущих двух проверок ясно, что в датафрейме 'groups_add' есть только один человек, который был активным пользователем (во время проведения эксперимента) и при этом совершил покупку."
   ]
  },
  {
   "cell_type": "markdown",
   "metadata": {},
   "source": [
    "Для упрощения дальнейших действий переименуем колонки 'student_id' в 'id' и 'rev' в 'revenue':"
   ]
  },
  {
   "cell_type": "code",
   "execution_count": 17,
   "metadata": {},
   "outputs": [],
   "source": [
    "checks.rename(columns={'student_id': 'id'}, inplace=True)\n",
    "checks.rename(columns={'rev': 'revenue'}, inplace=True)"
   ]
  },
  {
   "cell_type": "markdown",
   "metadata": {},
   "source": [
    "Обратим внимание на уникальные суммы и количество их появлений:"
   ]
  },
  {
   "cell_type": "code",
   "execution_count": 18,
   "metadata": {},
   "outputs": [
    {
     "name": "stdout",
     "output_type": "stream",
     "text": [
      "Уникальные значения сумм:\n",
      " [ 199.      290.      398.      489.      580.      590.      597.\n",
      "  630.      690.      796.      840.      870.      880.      990.\n",
      " 1039.     1050.     1140.     1160.     1180.     1339.     1388.\n",
      " 1530.     1729.     1830.     1900.     1900.0001 1968.     1980.\n",
      " 2099.     2190.     2220.     2820.     2890.     2900.     2910.\n",
      " 3040.     3260.     3660.     4650.    ]\n",
      "Сколько раз встречалась каждая сумма:\n",
      " 1900.0000    97\n",
      "290.0000     94\n",
      "690.0000     78\n",
      "199.0000     46\n",
      "990.0000     41\n",
      "1900.0001    36\n",
      "840.0000     27\n",
      "1140.0000    25\n",
      "580.0000     15\n",
      "590.0000     11\n",
      "398.0000      9\n",
      "1530.0000     8\n",
      "870.0000      6\n",
      "3660.0000     5\n",
      "2910.0000     4\n",
      "2890.0000     4\n",
      "1980.0000     4\n",
      "2099.0000     3\n",
      "489.0000      3\n",
      "1160.0000     3\n",
      "1180.0000     2\n",
      "2220.0000     2\n",
      "2820.0000     2\n",
      "597.0000      1\n",
      "1388.0000     1\n",
      "3260.0000     1\n",
      "880.0000      1\n",
      "3040.0000     1\n",
      "796.0000      1\n",
      "1968.0000     1\n",
      "1339.0000     1\n",
      "4650.0000     1\n",
      "2900.0000     1\n",
      "630.0000      1\n",
      "1830.0000     1\n",
      "1039.0000     1\n",
      "1050.0000     1\n",
      "1729.0000     1\n",
      "2190.0000     1\n",
      "Name: revenue, dtype: int64\n"
     ]
    }
   ],
   "source": [
    "unique_revs_sorted = np.sort(checks['revenue'].unique())\n",
    "print(\"Уникальные значения сумм:\\n\", unique_revs_sorted)\n",
    "\n",
    "purchases_count_by_person = checks['revenue'].value_counts()\n",
    "print(\"Сколько раз встречалась каждая сумма:\\n\", purchases_count_by_person)\n"
   ]
  },
  {
   "cell_type": "markdown",
   "metadata": {},
   "source": [
    "Все суммы являются цельночисленными за исключением одной - 1900.0001. Вероятно, это ошибка округления, но мы учтём её в дальнейшем исследовании, чтобы не упустить детали."
   ]
  },
  {
   "cell_type": "code",
   "execution_count": 19,
   "metadata": {},
   "outputs": [
    {
     "name": "stdout",
     "output_type": "stream",
     "text": [
      "Всего людей в checks 541\n",
      "Количество покупок для каждого id:\n",
      " id       revenue\n",
      "1627     990.0      1\n",
      "3185     690.0      1\n",
      "25973    690.0      1\n",
      "26280    690.0      1\n",
      "100300   990.0      1\n",
      "                   ..\n",
      "5645737  1900.0     1\n",
      "5651566  1900.0     1\n",
      "5662322  1900.0     1\n",
      "5681918  1900.0     1\n",
      "5740903  1900.0     1\n",
      "Name: revenue, Length: 541, dtype: int64\n"
     ]
    }
   ],
   "source": [
    "purchases_count_by_id = checks.groupby('id')['revenue'].value_counts()\n",
    "print(\"Всего людей в checks\", len(checks))\n",
    "print(\"Количество покупок для каждого id:\\n\", purchases_count_by_id)"
   ]
  },
  {
   "cell_type": "markdown",
   "metadata": {},
   "source": [
    "Отсюда следует, что каждый человек из датафрейма 'checks' совершил одну покупку."
   ]
  },
  {
   "cell_type": "markdown",
   "metadata": {},
   "source": [
    "Вычисление количества неактивных пользователей, потративших деньги:"
   ]
  },
  {
   "cell_type": "code",
   "execution_count": 20,
   "metadata": {},
   "outputs": [
    {
     "name": "stdout",
     "output_type": "stream",
     "text": [
      "Число пользователей, потративших деньги: 541\n",
      "Число активных пользователей, потративших деньги: 391\n",
      "Число неактивных пользователей, потративших деньги: 150\n"
     ]
    }
   ],
   "source": [
    "print('Число пользователей, потративших деньги:',len(checks))\n",
    "print('Число активных пользователей, потративших деньги:', common_people_indices)\n",
    "print('Число неактивных пользователей, потративших деньги:', (len(checks) - common_people_indices))\n"
   ]
  },
  {
   "cell_type": "markdown",
   "metadata": {},
   "source": [
    "150 пользователей, потратившие деньги, не были активными. Вероятно, это подписка с автоплатежом\n",
    "(пользователь не заходил на сайт в процессе покупки), таким образом, их можно не учитывать."
   ]
  },
  {
   "cell_type": "markdown",
   "metadata": {},
   "source": [
    "-------------------------------------------------------------------------------------------------------------------------------\n",
    "Последовательное объединение датафреймов. Итоговая таблица будет отображать данные о всех пользователях (ID, принадлежность к группе, активность, сумма покупки)."
   ]
  },
  {
   "cell_type": "code",
   "execution_count": 21,
   "metadata": {},
   "outputs": [
    {
     "data": {
      "text/html": [
       "<div>\n",
       "<style scoped>\n",
       "    .dataframe tbody tr th:only-of-type {\n",
       "        vertical-align: middle;\n",
       "    }\n",
       "\n",
       "    .dataframe tbody tr th {\n",
       "        vertical-align: top;\n",
       "    }\n",
       "\n",
       "    .dataframe thead th {\n",
       "        text-align: right;\n",
       "    }\n",
       "</style>\n",
       "<table border=\"1\" class=\"dataframe\">\n",
       "  <thead>\n",
       "    <tr style=\"text-align: right;\">\n",
       "      <th></th>\n",
       "      <th>id</th>\n",
       "      <th>grp</th>\n",
       "      <th>active_studs</th>\n",
       "      <th>revenue</th>\n",
       "    </tr>\n",
       "  </thead>\n",
       "  <tbody>\n",
       "    <tr>\n",
       "      <th>0</th>\n",
       "      <td>1489</td>\n",
       "      <td>B</td>\n",
       "      <td>False</td>\n",
       "      <td>0.0</td>\n",
       "    </tr>\n",
       "    <tr>\n",
       "      <th>1</th>\n",
       "      <td>1627</td>\n",
       "      <td>A</td>\n",
       "      <td>True</td>\n",
       "      <td>990.0</td>\n",
       "    </tr>\n",
       "    <tr>\n",
       "      <th>2</th>\n",
       "      <td>1768</td>\n",
       "      <td>B</td>\n",
       "      <td>False</td>\n",
       "      <td>0.0</td>\n",
       "    </tr>\n",
       "    <tr>\n",
       "      <th>3</th>\n",
       "      <td>1783</td>\n",
       "      <td>B</td>\n",
       "      <td>False</td>\n",
       "      <td>0.0</td>\n",
       "    </tr>\n",
       "    <tr>\n",
       "      <th>4</th>\n",
       "      <td>1794</td>\n",
       "      <td>A</td>\n",
       "      <td>False</td>\n",
       "      <td>0.0</td>\n",
       "    </tr>\n",
       "    <tr>\n",
       "      <th>...</th>\n",
       "      <td>...</td>\n",
       "      <td>...</td>\n",
       "      <td>...</td>\n",
       "      <td>...</td>\n",
       "    </tr>\n",
       "    <tr>\n",
       "      <th>74479</th>\n",
       "      <td>5692459</td>\n",
       "      <td>B</td>\n",
       "      <td>False</td>\n",
       "      <td>0.0</td>\n",
       "    </tr>\n",
       "    <tr>\n",
       "      <th>74480</th>\n",
       "      <td>5692572</td>\n",
       "      <td>B</td>\n",
       "      <td>False</td>\n",
       "      <td>0.0</td>\n",
       "    </tr>\n",
       "    <tr>\n",
       "      <th>74481</th>\n",
       "      <td>5692865</td>\n",
       "      <td>B</td>\n",
       "      <td>False</td>\n",
       "      <td>0.0</td>\n",
       "    </tr>\n",
       "    <tr>\n",
       "      <th>74482</th>\n",
       "      <td>5693667</td>\n",
       "      <td>B</td>\n",
       "      <td>False</td>\n",
       "      <td>0.0</td>\n",
       "    </tr>\n",
       "    <tr>\n",
       "      <th>74483</th>\n",
       "      <td>5694419</td>\n",
       "      <td>B</td>\n",
       "      <td>False</td>\n",
       "      <td>0.0</td>\n",
       "    </tr>\n",
       "  </tbody>\n",
       "</table>\n",
       "<p>74484 rows × 4 columns</p>\n",
       "</div>"
      ],
      "text/plain": [
       "            id grp  active_studs  revenue\n",
       "0         1489   B         False      0.0\n",
       "1         1627   A          True    990.0\n",
       "2         1768   B         False      0.0\n",
       "3         1783   B         False      0.0\n",
       "4         1794   A         False      0.0\n",
       "...        ...  ..           ...      ...\n",
       "74479  5692459   B         False      0.0\n",
       "74480  5692572   B         False      0.0\n",
       "74481  5692865   B         False      0.0\n",
       "74482  5693667   B         False      0.0\n",
       "74483  5694419   B         False      0.0\n",
       "\n",
       "[74484 rows x 4 columns]"
      ]
     },
     "execution_count": 21,
     "metadata": {},
     "output_type": "execute_result"
    }
   ],
   "source": [
    "groups_active_check = groups.copy()\n",
    "groups_active_check['active_studs'] = groups_active_check['id'].isin(active_studs['id'])\n",
    "\n",
    "# Создаю словарь, где ключ id, а значение revenue\n",
    "revenue_dict = checks.set_index('id')['revenue'].to_dict()\n",
    "\n",
    "# Добавляю столбец revenue в groups_active_check на основе id\n",
    "groups_active_check['revenue'] = groups_active_check['id'].map(revenue_dict).fillna(0)\n",
    "groups_active_check"
   ]
  },
  {
   "cell_type": "markdown",
   "metadata": {},
   "source": [
    "Узнаем основные значения в группах A и B:"
   ]
  },
  {
   "cell_type": "code",
   "execution_count": 22,
   "metadata": {},
   "outputs": [
    {
     "data": {
      "text/html": [
       "<div>\n",
       "<style scoped>\n",
       "    .dataframe tbody tr th:only-of-type {\n",
       "        vertical-align: middle;\n",
       "    }\n",
       "\n",
       "    .dataframe tbody tr th {\n",
       "        vertical-align: top;\n",
       "    }\n",
       "\n",
       "    .dataframe thead th {\n",
       "        text-align: right;\n",
       "    }\n",
       "</style>\n",
       "<table border=\"1\" class=\"dataframe\">\n",
       "  <thead>\n",
       "    <tr style=\"text-align: right;\">\n",
       "      <th></th>\n",
       "      <th>count</th>\n",
       "      <th>mean</th>\n",
       "      <th>std</th>\n",
       "      <th>min</th>\n",
       "      <th>25%</th>\n",
       "      <th>50%</th>\n",
       "      <th>75%</th>\n",
       "      <th>max</th>\n",
       "    </tr>\n",
       "    <tr>\n",
       "      <th>grp</th>\n",
       "      <th></th>\n",
       "      <th></th>\n",
       "      <th></th>\n",
       "      <th></th>\n",
       "      <th></th>\n",
       "      <th></th>\n",
       "      <th></th>\n",
       "      <th></th>\n",
       "    </tr>\n",
       "  </thead>\n",
       "  <tbody>\n",
       "    <tr>\n",
       "      <th>A</th>\n",
       "      <td>14671.0</td>\n",
       "      <td>6.277418</td>\n",
       "      <td>100.866104</td>\n",
       "      <td>0.0</td>\n",
       "      <td>0.0</td>\n",
       "      <td>0.0</td>\n",
       "      <td>0.0</td>\n",
       "      <td>3660.0</td>\n",
       "    </tr>\n",
       "    <tr>\n",
       "      <th>B</th>\n",
       "      <td>59813.0</td>\n",
       "      <td>8.013810</td>\n",
       "      <td>113.051542</td>\n",
       "      <td>0.0</td>\n",
       "      <td>0.0</td>\n",
       "      <td>0.0</td>\n",
       "      <td>0.0</td>\n",
       "      <td>4650.0</td>\n",
       "    </tr>\n",
       "  </tbody>\n",
       "</table>\n",
       "</div>"
      ],
      "text/plain": [
       "       count      mean         std  min  25%  50%  75%     max\n",
       "grp                                                           \n",
       "A    14671.0  6.277418  100.866104  0.0  0.0  0.0  0.0  3660.0\n",
       "B    59813.0  8.013810  113.051542  0.0  0.0  0.0  0.0  4650.0"
      ]
     },
     "execution_count": 22,
     "metadata": {},
     "output_type": "execute_result"
    }
   ],
   "source": [
    "groups_active_check.groupby('grp').revenue.describe()"
   ]
  },
  {
   "cell_type": "markdown",
   "metadata": {},
   "source": [
    "Построение графиков, предназначенных для визуализации распределения данных по тратам для групп A и B и проверки их соответствия нормальному распределению:"
   ]
  },
  {
   "cell_type": "code",
   "execution_count": 23,
   "metadata": {},
   "outputs": [
    {
     "data": {
      "image/png": "[encoded data removed]",
      "text/plain": [
       "<Figure size 1080x720 with 4 Axes>"
      ]
     },
     "metadata": {
      "needs_background": "light"
     },
     "output_type": "display_data"
    }
   ],
   "source": [
    "fig, axes = plt.subplots(nrows=2, ncols=2, figsize=(15, 10))\n",
    "\n",
    "sns.histplot(groups_active_check[(groups_active_check['grp'] == 'A') \n",
    "                                  & (groups_active_check['active_studs'])\n",
    "                                  & (groups_active_check['revenue'] > 0)]['revenue'], \n",
    "             kde=True, color='#A52A2A', ax=axes[0, 0])\n",
    "axes[0, 0].set_title('Histogram of group A data distribution')\n",
    "axes[0, 0].set_xlabel('Revenue')\n",
    "axes[0, 0].set_ylabel('Count')\n",
    "\n",
    "stats.probplot(groups_active_check[(groups_active_check['grp'] == 'A') \n",
    "                                   & (groups_active_check['active_studs'])\n",
    "                                   & (groups_active_check['revenue'] > 0)]['revenue'], \n",
    "               dist='norm', plot=axes[0, 1])\n",
    "axes[0, 1].set_title('Q-Q plot data distribution group A')\n",
    "\n",
    "sns.histplot(groups_active_check[(groups_active_check['grp'] == 'B') \n",
    "                                  & (groups_active_check['active_studs'])\n",
    "                                  & (groups_active_check['revenue'] > 0)]['revenue'], \n",
    "             kde=True, color='#008000', ax=axes[1, 0])\n",
    "axes[1, 0].set_title('Histogram of group B data distribution')\n",
    "axes[1, 0].set_xlabel('Revenue')\n",
    "axes[1, 0].set_ylabel('Count')\n",
    "\n",
    "stats.probplot(groups_active_check[(groups_active_check['grp'] == 'B') \n",
    "                                   & (groups_active_check['active_studs'])\n",
    "                                   & (groups_active_check['revenue'] > 0)]['revenue'], \n",
    "               dist='norm', plot=axes[1, 1])\n",
    "axes[1, 1].set_title('Q-Q plot data distribution group B')\n",
    "plt.subplots_adjust(wspace=0.25)\n",
    "plt.subplots_adjust(hspace=0.65)\n",
    "plt.show()"
   ]
  },
  {
   "cell_type": "markdown",
   "metadata": {},
   "source": [
    "### Расчёт основных метрик: ARPU, ARPPU, CR:"
   ]
  },
  {
   "cell_type": "markdown",
   "metadata": {},
   "source": [
    "ARPU"
   ]
  },
  {
   "cell_type": "code",
   "execution_count": 24,
   "metadata": {},
   "outputs": [
    {
     "data": {
      "text/html": [
       "<div>\n",
       "<style scoped>\n",
       "    .dataframe tbody tr th:only-of-type {\n",
       "        vertical-align: middle;\n",
       "    }\n",
       "\n",
       "    .dataframe tbody tr th {\n",
       "        vertical-align: top;\n",
       "    }\n",
       "\n",
       "    .dataframe thead th {\n",
       "        text-align: right;\n",
       "    }\n",
       "</style>\n",
       "<table border=\"1\" class=\"dataframe\">\n",
       "  <thead>\n",
       "    <tr style=\"text-align: right;\">\n",
       "      <th></th>\n",
       "      <th>grp</th>\n",
       "      <th>arpu</th>\n",
       "    </tr>\n",
       "  </thead>\n",
       "  <tbody>\n",
       "    <tr>\n",
       "      <th>0</th>\n",
       "      <td>A</td>\n",
       "      <td>47.44</td>\n",
       "    </tr>\n",
       "    <tr>\n",
       "      <th>1</th>\n",
       "      <td>B</td>\n",
       "      <td>57.86</td>\n",
       "    </tr>\n",
       "  </tbody>\n",
       "</table>\n",
       "</div>"
      ],
      "text/plain": [
       "  grp   arpu\n",
       "0   A  47.44\n",
       "1   B  57.86"
      ]
     },
     "execution_count": 24,
     "metadata": {},
     "output_type": "execute_result"
    }
   ],
   "source": [
    "arpu_control = round(groups_active_check[(groups_active_check['grp'] == 'A') \n",
    "                                 & (groups_active_check['active_studs'])]['revenue'].mean(), 2)\n",
    "arpu_target = round(groups_active_check[(groups_active_check['grp'] == 'B') \n",
    "                                 & (groups_active_check['active_studs'])]['revenue'].mean(), 2)\n",
    "\n",
    "arpu = pd.DataFrame({\n",
    "    'grp': ['A', 'B'],\n",
    "    'arpu': [arpu_control, arpu_target]})\n",
    "arpu"
   ]
  },
  {
   "cell_type": "markdown",
   "metadata": {},
   "source": [
    "ARPPU"
   ]
  },
  {
   "cell_type": "code",
   "execution_count": 25,
   "metadata": {},
   "outputs": [
    {
     "data": {
      "text/html": [
       "<div>\n",
       "<style scoped>\n",
       "    .dataframe tbody tr th:only-of-type {\n",
       "        vertical-align: middle;\n",
       "    }\n",
       "\n",
       "    .dataframe tbody tr th {\n",
       "        vertical-align: top;\n",
       "    }\n",
       "\n",
       "    .dataframe thead th {\n",
       "        text-align: right;\n",
       "    }\n",
       "</style>\n",
       "<table border=\"1\" class=\"dataframe\">\n",
       "  <thead>\n",
       "    <tr style=\"text-align: right;\">\n",
       "      <th></th>\n",
       "      <th>grp</th>\n",
       "      <th>arppu</th>\n",
       "    </tr>\n",
       "  </thead>\n",
       "  <tbody>\n",
       "    <tr>\n",
       "      <th>0</th>\n",
       "      <td>A</td>\n",
       "      <td>933.59</td>\n",
       "    </tr>\n",
       "    <tr>\n",
       "      <th>1</th>\n",
       "      <td>B</td>\n",
       "      <td>1255.83</td>\n",
       "    </tr>\n",
       "  </tbody>\n",
       "</table>\n",
       "</div>"
      ],
      "text/plain": [
       "  grp    arppu\n",
       "0   A   933.59\n",
       "1   B  1255.83"
      ]
     },
     "execution_count": 25,
     "metadata": {},
     "output_type": "execute_result"
    }
   ],
   "source": [
    "arppu_control = round(groups_active_check[(groups_active_check['grp'] == 'A') \n",
    "                                 & (groups_active_check['active_studs'])\n",
    "                                 & (groups_active_check['revenue'] > 0)]['revenue'].mean(), 2)\n",
    "arppu_target = round(groups_active_check[(groups_active_check['grp'] == 'B') \n",
    "                                 & (groups_active_check['active_studs'])\n",
    "                                 & (groups_active_check['revenue'] > 0)]['revenue'].mean(), 2)\n",
    "\n",
    "arppu = pd.DataFrame({\n",
    "    'grp': ['A', 'B'],\n",
    "    'arppu': [arppu_control, arppu_target]})\n",
    "arppu"
   ]
  },
  {
   "cell_type": "markdown",
   "metadata": {},
   "source": [
    "CR"
   ]
  },
  {
   "cell_type": "code",
   "execution_count": 26,
   "metadata": {},
   "outputs": [
    {
     "data": {
      "text/html": [
       "<div>\n",
       "<style scoped>\n",
       "    .dataframe tbody tr th:only-of-type {\n",
       "        vertical-align: middle;\n",
       "    }\n",
       "\n",
       "    .dataframe tbody tr th {\n",
       "        vertical-align: top;\n",
       "    }\n",
       "\n",
       "    .dataframe thead th {\n",
       "        text-align: right;\n",
       "    }\n",
       "</style>\n",
       "<table border=\"1\" class=\"dataframe\">\n",
       "  <thead>\n",
       "    <tr style=\"text-align: right;\">\n",
       "      <th></th>\n",
       "      <th>grp</th>\n",
       "      <th>transactions</th>\n",
       "      <th>paid_transactions</th>\n",
       "      <th>cr</th>\n",
       "    </tr>\n",
       "  </thead>\n",
       "  <tbody>\n",
       "    <tr>\n",
       "      <th>0</th>\n",
       "      <td>A</td>\n",
       "      <td>1535</td>\n",
       "      <td>78</td>\n",
       "      <td>5.08</td>\n",
       "    </tr>\n",
       "    <tr>\n",
       "      <th>1</th>\n",
       "      <td>B</td>\n",
       "      <td>6793</td>\n",
       "      <td>313</td>\n",
       "      <td>4.61</td>\n",
       "    </tr>\n",
       "  </tbody>\n",
       "</table>\n",
       "</div>"
      ],
      "text/plain": [
       "  grp  transactions  paid_transactions    cr\n",
       "0   A          1535                 78  5.08\n",
       "1   B          6793                313  4.61"
      ]
     },
     "execution_count": 26,
     "metadata": {},
     "output_type": "execute_result"
    }
   ],
   "source": [
    "transactions_control = len(groups_active_check[(groups_active_check['grp'] == 'A') \n",
    "                                 & (groups_active_check['active_studs'])]['revenue'])\n",
    "transactions_target = len(groups_active_check[(groups_active_check['grp'] == 'B') \n",
    "                                 & (groups_active_check['active_studs'])])\n",
    "\n",
    "paid_transactions_control = len(groups_active_check[(groups_active_check['grp'] == 'A') \n",
    "                                 & (groups_active_check['active_studs'])\n",
    "                                 & (groups_active_check['revenue'] > 0)]['revenue'])\n",
    "paid_transactions_target = len(groups_active_check[(groups_active_check['grp'] == 'B') \n",
    "                                 & (groups_active_check['active_studs'])\n",
    "                                 & (groups_active_check['revenue'] > 0)])\n",
    "\n",
    "conversion_control_per = round((paid_transactions_control / transactions_control) * 100, 2)\n",
    "conversion_target_per = round((paid_transactions_target / transactions_target) * 100, 2)\n",
    "\n",
    "conversion_data = pd.DataFrame({\n",
    "    'grp': ['A', 'B'],\n",
    "    'transactions': [transactions_control, transactions_target],\n",
    "    'paid_transactions': [paid_transactions_control, paid_transactions_target],\n",
    "    'cr': [conversion_control_per, conversion_target_per]})\n",
    "conversion_data"
   ]
  },
  {
   "cell_type": "markdown",
   "metadata": {},
   "source": [
    "Результаты расчётов метрик:"
   ]
  },
  {
   "cell_type": "code",
   "execution_count": 27,
   "metadata": {},
   "outputs": [
    {
     "data": {
      "text/html": [
       "<div>\n",
       "<style scoped>\n",
       "    .dataframe tbody tr th:only-of-type {\n",
       "        vertical-align: middle;\n",
       "    }\n",
       "\n",
       "    .dataframe tbody tr th {\n",
       "        vertical-align: top;\n",
       "    }\n",
       "\n",
       "    .dataframe thead th {\n",
       "        text-align: right;\n",
       "    }\n",
       "</style>\n",
       "<table border=\"1\" class=\"dataframe\">\n",
       "  <thead>\n",
       "    <tr style=\"text-align: right;\">\n",
       "      <th></th>\n",
       "      <th>grp</th>\n",
       "      <th>arpu</th>\n",
       "      <th>arppu</th>\n",
       "      <th>cr</th>\n",
       "    </tr>\n",
       "  </thead>\n",
       "  <tbody>\n",
       "    <tr>\n",
       "      <th>0</th>\n",
       "      <td>A</td>\n",
       "      <td>47.44</td>\n",
       "      <td>933.59</td>\n",
       "      <td>5.08</td>\n",
       "    </tr>\n",
       "    <tr>\n",
       "      <th>1</th>\n",
       "      <td>B</td>\n",
       "      <td>57.86</td>\n",
       "      <td>1255.83</td>\n",
       "      <td>4.61</td>\n",
       "    </tr>\n",
       "  </tbody>\n",
       "</table>\n",
       "</div>"
      ],
      "text/plain": [
       "  grp   arpu    arppu    cr\n",
       "0   A  47.44   933.59  5.08\n",
       "1   B  57.86  1255.83  4.61"
      ]
     },
     "execution_count": 27,
     "metadata": {},
     "output_type": "execute_result"
    }
   ],
   "source": [
    "all_df = pd.merge(arpu, arppu, on='grp')\n",
    "all_df = pd.merge(all_df, conversion_data[['grp', 'cr']], on='grp')\n",
    "all_df"
   ]
  },
  {
   "cell_type": "markdown",
   "metadata": {},
   "source": [
    "### Проверка метрик на стат. значимость:"
   ]
  },
  {
   "cell_type": "markdown",
   "metadata": {},
   "source": [
    "ARPU\n",
    "\n",
    "H0: Средний доход с пользователя в контрольной группе A равен среднему доходу с пользователя в целевой группе B.\n",
    "\n",
    "H1: Средний доход с пользователя в контрольной группе A не равен среднему доходу с пользователя в целевой группе B."
   ]
  },
  {
   "cell_type": "code",
   "execution_count": 28,
   "metadata": {},
   "outputs": [
    {
     "name": "stdout",
     "output_type": "stream",
     "text": [
      "p-значение: 0.2328800964324922\n",
      "Не отвергаем нулевую гипотезу: средний доход на пользователя в группах A и B не отличается\n"
     ]
    }
   ],
   "source": [
    "arpu_test_control = groups_active_check[(groups_active_check['grp'] == 'A') \n",
    "                                   & (groups_active_check['active_studs'])]['revenue']\n",
    "arpu_test_target = groups_active_check[(groups_active_check['grp'] == 'B') \n",
    "                                  & (groups_active_check['active_studs'])]['revenue']\n",
    "\n",
    "statistic, p_value = ttest_ind(arpu_test_control, arpu_test_target)\n",
    "\n",
    "print('p-значение:', p_value)\n",
    "\n",
    "if p_value > 0.05:\n",
    "    print('Не отвергаем нулевую гипотезу: средний доход на пользователя в группах A и B не отличается')\n",
    "else:\n",
    "    print('Отвергаем нулевую гипотезу: средний доход на пользователя в группах A и B отличается')"
   ]
  },
  {
   "cell_type": "markdown",
   "metadata": {},
   "source": [
    "Исходя из проведённого теста, полученное p-значение равно 0.2329. При уровне значимости 0.05 не отвергается нулевая гипотеза. Таким образом, у нас нет достаточных оснований считать, что средний доход на пользователя в группе A отличается от среднего дохода в группе B."
   ]
  },
  {
   "cell_type": "markdown",
   "metadata": {},
   "source": [
    "ARPPU\n",
    "\n",
    "H0: Средний доход с платящего пользователя в контрольной группе A равен среднему доходу с платящего пользователя в целевой группе B.\n",
    "\n",
    "H1: Средний доход с платящего пользователя в контрольной группе A не равен среднему доходу с платящего пользователя в целевой группе B."
   ]
  },
  {
   "cell_type": "code",
   "execution_count": 29,
   "metadata": {},
   "outputs": [
    {
     "name": "stdout",
     "output_type": "stream",
     "text": [
      "p-значение: 0.001999178025210522\n",
      "Отвергаем гипотезу: средний доход на платящего пользователя в группах A и B отличается\n"
     ]
    }
   ],
   "source": [
    "arppu_test_control = groups_active_check[(groups_active_check['grp'] == 'A') \n",
    "                                    & (groups_active_check['active_studs'])\n",
    "                                    & (groups_active_check['revenue'] > 0)]['revenue']\n",
    "arppu_test_target = groups_active_check[(groups_active_check['grp'] == 'B') \n",
    "                                   & (groups_active_check['active_studs'])\n",
    "                                   & (groups_active_check['revenue'] > 0)]['revenue']\n",
    "\n",
    "statistic, p_value = ttest_ind(arppu_test_control, arppu_test_target)\n",
    "\n",
    "print('p-значение:', p_value)\n",
    "\n",
    "if p_value > 0.05:\n",
    "    print('Не отвергаем гипотезу: средний доход на платящего пользователя в группах A и B не отличается')\n",
    "else:\n",
    "    print('Отвергаем гипотезу: средний доход на платящего пользователя в группах A и B отличается')"
   ]
  },
  {
   "cell_type": "markdown",
   "metadata": {},
   "source": [
    "Исходя из проведённого теста с использованием p-значения 0.002, которое явно меньше уровня значимости 0.05, мы отвергаем нулевую гипотезу. Следовательно, у нас есть статистически значимые доказательства того, что средний доход на пользователя в группе A отличается от среднего дохода на пользователя в группе B."
   ]
  },
  {
   "cell_type": "markdown",
   "metadata": {},
   "source": [
    "CR\n",
    "\n",
    "H0: Конверсионная ставка в контрольной группе A равна конверсионной ставке в целевой группе B.\n",
    "\n",
    "H1: Конверсионная ставка в контрольной группе A не равна конверсионной ставке в целевой группе B."
   ]
  },
  {
   "cell_type": "code",
   "execution_count": 30,
   "metadata": {},
   "outputs": [
    {
     "name": "stdout",
     "output_type": "stream",
     "text": [
      "p-значение: 0.4912034030799808\n",
      "Не отвергаем гипотезу: конверсия в группах A и B не отличается\n"
     ]
    }
   ],
   "source": [
    "data = conversion_data[['transactions', 'paid_transactions']].values\n",
    "\n",
    "chi2_stat, p_value, _, _ = chi2_contingency(data)\n",
    "\n",
    "print('p-значение:', p_value)\n",
    "\n",
    "if p_value > 0.05:\n",
    "    print('Не отвергаем гипотезу: конверсия в группах A и B не отличается')\n",
    "else:\n",
    "    print('Отвергаем гипотезу: конверсия в группах A и B отличается')"
   ]
  },
  {
   "cell_type": "markdown",
   "metadata": {},
   "source": [
    "Исходя из результатов теста с использованием критерия хи-квадрат (p-значение равно 0.4912), которое превышает уровень значимости 0.05, мы не имеем достаточных оснований отвергнуть нулевую гипотезу. Таким образом, нет статистически значимых доказательств в пользу того, что конверсионная ставка в группе A отличается от конверсионной ставки в группе B."
   ]
  },
  {
   "cell_type": "markdown",
   "metadata": {},
   "source": [
    "### Вывод: В целом, основываясь на проведенных тестах, можно сделать вывод, что средний доход на пользователя и конверсионная ставка не различаются между группами A и B, в то время как средний доход на пользователя отличается. Таким образом, результаты свидетельствуют о том, что новая механика оплаты имеет статистически значимое воздействие на средний чек пользователя. Тем самым, внедрение новой механики имеет смысл."
   ]
  },
  {
   "cell_type": "markdown",
   "metadata": {},
   "source": [
    "## Перерасчёт метрик с учётом подгруженных данных из датафрейма 'groups_add':"
   ]
  },
  {
   "cell_type": "code",
   "execution_count": 36,
   "metadata": {},
   "outputs": [],
   "source": [
    "def recalculate_metrics(df_groups, df_groups_add, df_active_studs, df_checks):\n",
    "\n",
    "    groups_active_check_groups_add = pd.concat([groups, groups_add])\n",
    "    groups_active_check_groups_add['active_studs'] = groups_active_check_groups_add['id'].isin(active_studs['id'])\n",
    "    revenue_dict = checks.set_index('id')['revenue'].to_dict()\n",
    "    groups_active_check_groups_add['revenue'] = groups_active_check_groups_add['id'].map(revenue_dict).fillna(0)\n",
    "    \n",
    "#     ARPU\n",
    "    arpu_control_with_addition = round(groups_active_check_groups_add[(groups_active_check_groups_add['grp'] == 'A') \n",
    "                                 & (groups_active_check_groups_add['active_studs'])]['revenue'].mean(), 2)\n",
    "    arpu_target_with_addition = round(groups_active_check_groups_add[(groups_active_check_groups_add['grp'] == 'B') \n",
    "                                 & (groups_active_check_groups_add['active_studs'])]['revenue'].mean(), 2)\n",
    "    \n",
    "#     ARPPU\n",
    "    arppu_control_with_addition = round(groups_active_check_groups_add[(groups_active_check_groups_add['grp'] == 'A') \n",
    "                                 & (groups_active_check_groups_add['active_studs'])\n",
    "                                 & (groups_active_check_groups_add['revenue'] > 0)]['revenue'].mean(), 2)\n",
    "    arppu_target_with_addition = round(groups_active_check_groups_add[(groups_active_check_groups_add['grp'] == 'B') \n",
    "                                 & (groups_active_check_groups_add['active_studs'])\n",
    "                                 & (groups_active_check_groups_add['revenue'] > 0)]['revenue'].mean(), 2)\n",
    "\n",
    "#     CR\n",
    "    transactions_control_with_addition = len(groups_active_check_groups_add[(groups_active_check_groups_add['grp'] == 'A') \n",
    "                                 & (groups_active_check_groups_add['active_studs'])]['revenue'])\n",
    "    transactions_target_with_addition = len(groups_active_check_groups_add[(groups_active_check_groups_add['grp'] == 'B') \n",
    "                                     & (groups_active_check_groups_add['active_studs'])])\n",
    "\n",
    "    paid_transactions_control_with_addition = len(groups_active_check_groups_add[(groups_active_check_groups_add['grp'] == 'A') \n",
    "                                     & (groups_active_check_groups_add['active_studs'])\n",
    "                                     & (groups_active_check_groups_add['revenue'] > 0)]['revenue'])\n",
    "    paid_transactions_target_with_addition = len(groups_active_check_groups_add[(groups_active_check_groups_add['grp'] == 'B') \n",
    "                                     & (groups_active_check_groups_add['active_studs'])\n",
    "                                     & (groups_active_check_groups_add['revenue'] > 0)])\n",
    "\n",
    "    conversion_control_per_with_addition = round((paid_transactions_control_with_addition / transactions_control_with_addition) * 100, 2)\n",
    "    conversion_target_per_with_addition = round((paid_transactions_target_with_addition / transactions_target_with_addition) * 100, 2)\n",
    "\n",
    "    metrics = pd.DataFrame({\n",
    "        'grp': ['A', 'B'],\n",
    "        'arpu': [arpu_control_with_addition, arpu_target_with_addition],\n",
    "        'arppu': [arppu_control_with_addition, arppu_target_with_addition],\n",
    "        'cr': [conversion_control_per_with_addition, conversion_target_per_with_addition]\n",
    "    })\n",
    "    \n",
    "    return metrics"
   ]
  },
  {
   "cell_type": "markdown",
   "metadata": {},
   "source": [
    "Результаты перерасчёта:"
   ]
  },
  {
   "cell_type": "code",
   "execution_count": 37,
   "metadata": {},
   "outputs": [
    {
     "data": {
      "text/html": [
       "<div>\n",
       "<style scoped>\n",
       "    .dataframe tbody tr th:only-of-type {\n",
       "        vertical-align: middle;\n",
       "    }\n",
       "\n",
       "    .dataframe tbody tr th {\n",
       "        vertical-align: top;\n",
       "    }\n",
       "\n",
       "    .dataframe thead th {\n",
       "        text-align: right;\n",
       "    }\n",
       "</style>\n",
       "<table border=\"1\" class=\"dataframe\">\n",
       "  <thead>\n",
       "    <tr style=\"text-align: right;\">\n",
       "      <th></th>\n",
       "      <th>grp</th>\n",
       "      <th>arpu</th>\n",
       "      <th>arppu</th>\n",
       "      <th>cr</th>\n",
       "    </tr>\n",
       "  </thead>\n",
       "  <tbody>\n",
       "    <tr>\n",
       "      <th>0</th>\n",
       "      <td>A</td>\n",
       "      <td>47.35</td>\n",
       "      <td>933.59</td>\n",
       "      <td>5.07</td>\n",
       "    </tr>\n",
       "    <tr>\n",
       "      <th>1</th>\n",
       "      <td>B</td>\n",
       "      <td>58.06</td>\n",
       "      <td>1257.88</td>\n",
       "      <td>4.62</td>\n",
       "    </tr>\n",
       "  </tbody>\n",
       "</table>\n",
       "</div>"
      ],
      "text/plain": [
       "  grp   arpu    arppu    cr\n",
       "0   A  47.35   933.59  5.07\n",
       "1   B  58.06  1257.88  4.62"
      ]
     },
     "execution_count": 37,
     "metadata": {},
     "output_type": "execute_result"
    }
   ],
   "source": [
    "final_df = recalculate_metrics(groups, groups_add, checks, active_studs)\n",
    "final_df"
   ]
  },
  {
   "cell_type": "markdown",
   "metadata": {},
   "source": [
    "Функция построения графиков полученных метрик:"
   ]
  },
  {
   "cell_type": "code",
   "execution_count": 38,
   "metadata": {},
   "outputs": [],
   "source": [
    "def visualization(data):   \n",
    "    fig, axes = plt.subplots(nrows=1, ncols=3, figsize=(15, 5))\n",
    "    # ARPU\n",
    "    sns.barplot(data = data, y='arpu', x='grp', ax=axes[0], palette=['#FFA07A','#3CB371'])\n",
    "    axes[0].set(xlabel='Group')\n",
    "    axes[0].set(ylabel='Monetary Units')\n",
    "    axes[0].set_title('ARPU')\n",
    "    # ARPPU\n",
    "    sns.barplot(data = data, y='arppu', x='grp', ax=axes[1], palette=['#FFA07A','#3CB371'])\n",
    "    axes[1].set(xlabel='Group')\n",
    "    axes[1].set(ylabel='Monetary Units')\n",
    "    axes[1].set_title('ARPPU')\n",
    "    # CR\n",
    "    sns.barplot(data = data, y = 'cr', x = 'grp', ax=axes[2], palette=['#FFA07A','#3CB371'])\n",
    "    axes[2].set(xlabel='Group')\n",
    "    axes[2].set(ylabel='Percentage Points')\n",
    "    axes[2].set_title('CR')\n",
    "    \n",
    "    plt.subplots_adjust(wspace=0.5)"
   ]
  },
  {
   "cell_type": "markdown",
   "metadata": {},
   "source": [
    "Построенные графики:"
   ]
  },
  {
   "cell_type": "code",
   "execution_count": 39,
   "metadata": {},
   "outputs": [
    {
     "data": {
      "image/png": "[encoded data removed]",
      "text/plain": [
       "<Figure size 1080x360 with 3 Axes>"
      ]
     },
     "metadata": {
      "needs_background": "light"
     },
     "output_type": "display_data"
    }
   ],
   "source": [
    "visualization(final_df)"
   ]
  },
  {
   "cell_type": "markdown",
   "metadata": {},
   "source": [
    "-------------------------------------------------------------------------------------------------------------------------------\n",
    "## SQL (1 задача)\n",
    "\n",
    "Образовательные курсы состоят из различных уроков, каждый из которых состоит из нескольких маленьких заданий. Каждое такое маленькое задание будем называть подзадачей.\n",
    "\n",
    "Напишите оптимальный SQL-запрос для получения информации о количестве очень усердных студентов. Определите усердных студентов как тех, кто правильно решил как минимум 20 задач за текущий месяц.\n",
    "\n",
    "Описание Данных:\n",
    "\n",
    "- default.peas:\n",
    "\n",
    "Название атрибута\tТип атрибута\tСмысловое значение\n",
    "\n",
    "st_id\tint\tID ученика\n",
    "\n",
    "timest\ttimestamp\tВремя решения карточки\n",
    "\n",
    "correct\tbool\tПравильно ли решена подзадача?\n",
    "\n",
    "subject\ttext\tДисциплина, в которой находится подзадача\n"
   ]
  },
  {
   "cell_type": "code",
   "execution_count": 31,
   "metadata": {},
   "outputs": [],
   "source": [
    "connection = {'host': 'https://clickhouse.lab.karpov.courses',\n",
    "                      'database':'default',\n",
    "                      'user':'student', \n",
    "                      'password':'dpo_python_2020'\n",
    "                     }"
   ]
  },
  {
   "cell_type": "code",
   "execution_count": 32,
   "metadata": {},
   "outputs": [],
   "source": [
    "q1 = '''\n",
    "    SELECT\n",
    "        COUNT(DISTINCT st_id) AS total_people\n",
    "    FROM\n",
    "        default.peas\n",
    "    WHERE\n",
    "        st_id IN (\n",
    "            SELECT st_id\n",
    "            FROM default.peas\n",
    "            GROUP BY st_id\n",
    "            HAVING SUM(correct) >= 20\n",
    "            AND EXTRACT(MONTH FROM MAX(timest))\n",
    "        )\n",
    "    '''"
   ]
  },
  {
   "cell_type": "code",
   "execution_count": 33,
   "metadata": {
    "scrolled": true
   },
   "outputs": [
    {
     "data": {
      "text/html": [
       "<div>\n",
       "<style scoped>\n",
       "    .dataframe tbody tr th:only-of-type {\n",
       "        vertical-align: middle;\n",
       "    }\n",
       "\n",
       "    .dataframe tbody tr th {\n",
       "        vertical-align: top;\n",
       "    }\n",
       "\n",
       "    .dataframe thead th {\n",
       "        text-align: right;\n",
       "    }\n",
       "</style>\n",
       "<table border=\"1\" class=\"dataframe\">\n",
       "  <thead>\n",
       "    <tr style=\"text-align: right;\">\n",
       "      <th></th>\n",
       "      <th>total_people</th>\n",
       "    </tr>\n",
       "  </thead>\n",
       "  <tbody>\n",
       "    <tr>\n",
       "      <th>0</th>\n",
       "      <td>136</td>\n",
       "    </tr>\n",
       "  </tbody>\n",
       "</table>\n",
       "</div>"
      ],
      "text/plain": [
       "   total_people\n",
       "0           136"
      ]
     },
     "execution_count": 33,
     "metadata": {},
     "output_type": "execute_result"
    }
   ],
   "source": [
    "answer1 = ph.read_clickhouse(query=q1, connection=connection)\n",
    "answer1"
   ]
  },
  {
   "cell_type": "markdown",
   "metadata": {},
   "source": [
    "## SQL (2 задача)\n",
    "\n",
    "Образовательная платформа предлагает пройти студентам курсы по модели trial: студент может решить бесплатно лишь 30 подзадач в день. Для неограниченного количества заданий в определенной дисциплине студенту необходимо приобрести полный доступ. Команда провела эксперимент, где был протестирован новый экран оплаты.\n",
    "\n",
    "\n",
    "Описание Данных: \n",
    "\n",
    "- default.peas:\n",
    "\n",
    "Название атрибута\tТип атрибута\tСмысловое значение\n",
    "\n",
    "st_id\tint\tID ученика\n",
    "\n",
    "timest\ttimestamp\tВремя решения карточки\n",
    "\n",
    "correct\tbool\tПравильно ли решена подзадача?\n",
    "\n",
    "subject\ttext\tДисциплина, в которой находится подзадача\n",
    "\n",
    "- default.studs:\n",
    "\n",
    "Название атрибута\tТип атрибута\tСмысловое значение\n",
    "\n",
    "st_id\tint\t ID ученика\n",
    "\n",
    "test_grp\ttext\t Метка ученика в данном эксперименте\n",
    "\n",
    "\n",
    "- default.final_project_check:\n",
    "\n",
    "Название атрибута\tТип атрибута\tСмысловое значение\n",
    "\n",
    "st_id\tint \tID ученика\n",
    "\n",
    "sale_time\ttimestamp\tВремя покупки\n",
    "\n",
    "money\tint\tЦена, по которой приобрели данный курс\n",
    "\n",
    "subject\ttext \t\n",
    "\n",
    "----\n",
    "Напишите SQL-запрос для получения следующей информации о группах пользователей:\n",
    "\n",
    "ARPU\n",
    "\n",
    "ARPAU\n",
    "\n",
    "CR в покупку\n",
    "\n",
    "CR активного пользователя в покупку\n",
    "\n",
    "CR пользователя из активности по математике в покупку курса по математике\n",
    "\n",
    "(Активным считается пользователь, за все время решивший больше 10 задач правильно в любых дисциплинах.Активным по математике считается пользователь, за все время решивший 2 или больше задач правильно по математике.)\n"
   ]
  },
  {
   "cell_type": "code",
   "execution_count": 34,
   "metadata": {},
   "outputs": [],
   "source": [
    "q2 = '''\n",
    "    WITH user_activity AS \n",
    "        (\n",
    "        SELECT \n",
    "            st_id\n",
    "        FROM \n",
    "            default.peas\n",
    "        GROUP BY \n",
    "            st_id\n",
    "        HAVING COUNT(correct) > 10\n",
    "        ),\n",
    "    user_activity_math AS\n",
    "        (\n",
    "        SELECT\n",
    "            st_id\n",
    "        FROM\n",
    "            default.peas\n",
    "        WHERE\n",
    "            subject = 'Math'\n",
    "        GROUP BY \n",
    "            st_id\n",
    "        HAVING \n",
    "            COUNT(correct) >= 2\n",
    "        )\n",
    "\n",
    "    SELECT \n",
    "        s.test_grp AS group,\n",
    "        SUM(fp.money) / COUNT(DISTINCT s.st_id) AS ARPU,\n",
    "        SUM(fp.money) / COUNT(DISTINCT ua.st_id) AS ARPAU,\n",
    "        ROUND((COUNT(DISTINCT fp.st_id) / COUNT(DISTINCT s.st_id) * 100), 2) AS CR_for_purchase,\n",
    "        ROUND((COUNT(DISTINCT CASE WHEN fp.st_id IN (SELECT st_id FROM user_activity) THEN fp.st_id END) / COUNT(DISTINCT ua.st_id) * 100), 2) AS CR_AU_for_purchase,\n",
    "        ROUND((COUNT(DISTINCT CASE WHEN fp.st_id IN (SELECT st_id FROM user_activity_math) THEN fp.st_id END) / COUNT(DISTINCT uam.st_id) * 100), 2)  AS CR_math_purchase\n",
    "    FROM \n",
    "        default.studs AS s\n",
    "    LEFT JOIN user_activity ua ON s.st_id = ua.st_id\n",
    "    LEFT JOIN user_activity_math uam ON s.st_id = uam.st_id\n",
    "    LEFT JOIN default.final_project_check fp ON s.st_id = fp.st_id\n",
    "    GROUP BY\n",
    "        s.test_grp\n",
    "    '''"
   ]
  },
  {
   "cell_type": "code",
   "execution_count": 35,
   "metadata": {},
   "outputs": [
    {
     "data": {
      "text/html": [
       "<div>\n",
       "<style scoped>\n",
       "    .dataframe tbody tr th:only-of-type {\n",
       "        vertical-align: middle;\n",
       "    }\n",
       "\n",
       "    .dataframe tbody tr th {\n",
       "        vertical-align: top;\n",
       "    }\n",
       "\n",
       "    .dataframe thead th {\n",
       "        text-align: right;\n",
       "    }\n",
       "</style>\n",
       "<table border=\"1\" class=\"dataframe\">\n",
       "  <thead>\n",
       "    <tr style=\"text-align: right;\">\n",
       "      <th></th>\n",
       "      <th>group</th>\n",
       "      <th>ARPU</th>\n",
       "      <th>ARPAU</th>\n",
       "      <th>CR_for_purchase</th>\n",
       "      <th>CR_AU_for_purchase</th>\n",
       "      <th>CR_math_purchase</th>\n",
       "    </tr>\n",
       "  </thead>\n",
       "  <tbody>\n",
       "    <tr>\n",
       "      <th>0</th>\n",
       "      <td>control</td>\n",
       "      <td>4540.983607</td>\n",
       "      <td>9111.842105</td>\n",
       "      <td>5.25</td>\n",
       "      <td>9.87</td>\n",
       "      <td>11.76</td>\n",
       "    </tr>\n",
       "    <tr>\n",
       "      <th>1</th>\n",
       "      <td>pilot</td>\n",
       "      <td>11508.474576</td>\n",
       "      <td>27827.868852</td>\n",
       "      <td>11.19</td>\n",
       "      <td>21.31</td>\n",
       "      <td>13.33</td>\n",
       "    </tr>\n",
       "  </tbody>\n",
       "</table>\n",
       "</div>"
      ],
      "text/plain": [
       "     group          ARPU         ARPAU  CR_for_purchase  CR_AU_for_purchase  \\\n",
       "0  control   4540.983607   9111.842105             5.25                9.87   \n",
       "1    pilot  11508.474576  27827.868852            11.19               21.31   \n",
       "\n",
       "   CR_math_purchase  \n",
       "0             11.76  \n",
       "1             13.33  "
      ]
     },
     "execution_count": 35,
     "metadata": {},
     "output_type": "execute_result"
    }
   ],
   "source": [
    "answer2 = ph.read_clickhouse(query=q2, connection=connection)\n",
    "answer2"
   ]
  },
  {
   "cell_type": "markdown",
   "metadata": {},
   "source": [
    "### Вывод: \n",
    "- Группа \"pilot\" имеет более высокие показатели ARPU и ARPAU по сравнению с группой \"control\".\n",
    "\n",
    "- Конверсия в покупку (CR_for_purchase) в группе \"pilot\" также выше, что свидетельствует о более эффективной монетизации.\n",
    "\n",
    "- CR_AU_for_purchase и CR_math_purchase также показывают преимущество группы \"pilot\" в привлечении активных пользователей и пользователей, активных в математике, соответственно.\n",
    "\n",
    "### Общий вывод: Эксперимент с новым экраном оплаты (группа \"pilot\") привел к улучшению ключевых показателей монетизации и привлечения активных пользователей, что делает его более успешным по сравнению с группой \"control\". Рекомендуется продолжить использование нового экрана оплаты."
   ]
  }
 ],
 "metadata": {
  "kernelspec": {
   "display_name": "Python 3",
   "language": "python",
   "name": "python3"
  },
  "language_info": {
   "codemirror_mode": {
    "name": "ipython",
    "version": 3
   },
   "file_extension": ".py",
   "mimetype": "text/x-python",
   "name": "python",
   "nbconvert_exporter": "python",
   "pygments_lexer": "ipython3",
   "version": "3.7.3"
  }
 },
 "nbformat": 4,
 "nbformat_minor": 4
}
